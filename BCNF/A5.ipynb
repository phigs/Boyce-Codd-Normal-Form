{
 "cells": [
  {
   "cell_type": "markdown",
   "metadata": {},
   "source": [
    "## Assignment 5\n",
    "\n",
    "Assigned: 13 November 2018  \n",
    "Due: 4 December 2018\n",
    "\n",
    "In this assignment you will design a database and write functions to query it. I have provided data for 999 books from Tar Heel Reader. The books are provided in JSON format which is easy to read in Python. "
   ]
  },
  {
   "cell_type": "code",
   "execution_count": 81,
   "metadata": {},
   "outputs": [],
   "source": [
    "# setup\n",
    "import sqlite3\n",
    "import comp521\n",
    "\n",
    "check, report = comp521.start('A5')\n",
    "\n",
    "import json\n",
    "books = json.load(open('books.json'))"
   ]
  },
  {
   "cell_type": "markdown",
   "metadata": {},
   "source": [
    "Now the variable `books` is an array of dictionaries. A typical book looks like this:\n",
    "\n",
    "     {u'categories': [u'Animals and Nature'],\n",
    "     u'created': u'2015-04-02 07:57:35',\n",
    "     u'email': u'cwhitei0@miitbeian.gov.cn',\n",
    "     u'first_name': u'Christopher',\n",
    "     u'language': u'es',\n",
    "     u'last_name': u'White',\n",
    "     u'login': u'cwhitei0',\n",
    "     u'pages': [{u'height': 310,\n",
    "       u'caption': u'La rosa m\\xe1s hermosa',\n",
    "       u'url': u'/cache/images/48/3329876048_2b480e2243.jpg',\n",
    "       u'width': 500},\n",
    "      {u'height': 375,\n",
    "       u'caption': u'Aunque crezca en un desierto',\n",
    "       u'url': u'/cache/images/19/5886437819_01932b8f38.jpg',\n",
    "       u'width': 500},\n",
    "      {u'height': 500,\n",
    "       u'caption': u'siempre tiene donde estar',\n",
    "       u'url': u'/cache/images/17/5886448317_fcbf6c7d4d.jpg',\n",
    "       u'width': 375}],\n",
    "     u'title': u'La rosa'}\n",
    " \n",
    "`categories` is a list of strings each indicating a library-like classification for the book. The list may be empty. Assume that additional categories may be created in the future.\n",
    "\n",
    "`email`, `first_name`, `last_name`, and `login` relate to the author of the book. Of course, one author may write many books and the information must remain consistent. `login` is unique for every author.\n",
    "\n",
    "`language` is the two-letter code for the language of the book. \n",
    "\n",
    "`title` is, of course, the title of the book and certainly not unique.\n",
    "\n",
    "`pages` is an array. For each page of the book we have several fields. `caption` is the caption or text for this page of the book. `url` is the URL for the picture and its dimensions are in `width` and `height`. The dimensions of a particular image are always the same. There is significant reuse of pictures across books. The `url` for a picture sometimes changes and must be changed across all instances.\n",
    "\n",
    "## Your mission\n",
    "\n",
    "Your mission is to design a database in BCNF, write code to load it from the `books` array, and code to query it in various ways as described below.\n",
    "\n",
    "Imagine you are implemeting the database part of the backend for Tar Heel Reader."
   ]
  },
  {
   "cell_type": "code",
   "execution_count": 82,
   "metadata": {},
   "outputs": [],
   "source": [
    "# I'll create an in-memory database for you. Do all your work in here\n",
    "import sqlite3\n",
    "db = sqlite3.Connection(':memory:')\n",
    "cursor = db.cursor()"
   ]
  },
  {
   "cell_type": "markdown",
   "metadata": {},
   "source": [
    "## 1. Design the Database\n",
    "\n",
    "Create a set of tables with schemas that are in Boyce-Codd Normal Form (_the values are determined by the key, the whole key, and nothing but the key_) or as close to it as you can reasonably get. Use the same names for attributes as in the JSON format data. Give any new attributes you create reasonably descriptive names.\n",
    "\n",
    "I'm going to assume below that you can find a given book by a unique integer id that you (or the DB) will assign."
   ]
  },
  {
   "cell_type": "code",
   "execution_count": 83,
   "metadata": {},
   "outputs": [],
   "source": [
    "# Write code here to create the tables\n",
    "# use the db variable from above\n",
    "\n",
    "cursor = db.execute('DROP TABLE IF EXISTS \"Categories\"')\n",
    "cursor = db.execute('CREATE TABLE Categories(bookid int, categories varchar(999))')\n",
    "cursor = db.execute('DROP TABLE IF EXISTS \"Books\"')\n",
    "cursor = db.execute('CREATE TABLE Books(bookid int, title string, login string, language string, created varchar(999))')\n",
    "cursor = db.execute('DROP TABLE IF EXISTS \"Authors\"')\n",
    "cursor = db.execute('CREATE TABLE Authors(login string, email varchar(999), firstname string, lastname string)')\n",
    "cursor = db.execute('DROP TABLE IF EXISTS \"Pages\"')\n",
    "cursor = db.execute('CREATE TABLE Pages(bookid int, pageid int, caption varchar(999))')\n",
    "cursor = db.execute('DROP TABLE IF EXISTS \"ImageInPage\"')\n",
    "cursor = db.execute('CREATE TABLE ImageInPage(bookid int, imageid int, pageid int)')\n",
    "cursor = db.execute('DROP TABLE IF EXISTS \"Images\"')\n",
    "cursor = db.execute('CREATE TABLE Images(imageid int, width int, height int, url varchar(999))')"
   ]
  },
  {
   "cell_type": "markdown",
   "metadata": {},
   "source": [
    "## 2. Load the data into your database. \n",
    "\n",
    "You should not need additional datastructures besides the db itself to accomplish this. "
   ]
  },
  {
   "cell_type": "code",
   "execution_count": 84,
   "metadata": {},
   "outputs": [],
   "source": [
    "# Write your code here, use the same db as above\n",
    "# the source data is already in the variable books\n",
    "# you'll, of course, need to iterate over it.\n",
    "bookid = 0\n",
    "imageid = 0\n",
    "for x in books:\n",
    "    for y in x['categories']:\n",
    "        cursor = db.execute('INSERT INTO Categories(bookid, categories) VALUES (?,?)', (bookid, y))\n",
    "            \n",
    "    cursor = db.execute('INSERT INTO Books(bookid, title, login, language, created) VALUES (?,?,?,?,?)', (bookid, x['title'], x['login'], x['language'], x['created']))\n",
    "    \n",
    "    cursor = db.execute('Select login FROM Authors A WHERE login = ?',(x['login'],))\n",
    "    b = cursor.fetchone()    \n",
    "    if b == None:\n",
    "        cursor = db.execute('INSERT INTO Authors(login, email, firstname, lastname) VALUES (?,?,?,?)', (x['login'], x['email'], x['first_name'], x['last_name']))\n",
    "    pageid = 0\n",
    "    for c in x['pages']:\n",
    "        \n",
    "        cursor = db.execute('INSERT INTO Pages(bookid, pageid, caption) VALUES (?,?,?)',(bookid, pageid, c['caption']))\n",
    "        \n",
    "    \n",
    "        cursor = db.execute('Select url FROM Images WHERE url = ?',(c['url'],))\n",
    "        b = cursor.fetchone()    \n",
    "        if b == None: \n",
    "            cursor = db.execute('INSERT INTO Images(imageid, width, height, url) VALUES (?,?,?,?)', (imageid, c['width'], c['height'], c['url']))\n",
    "            \n",
    "            imageid += 1\n",
    "        newImg = db.execute('Select imageid FROM Images WHERE url = ?', (c['url'],)).fetchone()[0]\n",
    "        cursor = db.execute('INSERT INTO ImageInPage(bookid, imageid, pageid) VALUES (?,?,?)', (bookid, newImg, pageid))\n",
    "        pageid += 1 \n",
    "    bookid += 1"
   ]
  },
  {
   "cell_type": "markdown",
   "metadata": {},
   "source": [
    "### Verify your tables\n",
    "\n",
    "I'm going to include some code below to help you verify the sizes of your tables. I _think_ that if you've factored and loaded them up as expected they should have the same number of entiries as mine."
   ]
  },
  {
   "cell_type": "code",
   "execution_count": 85,
   "metadata": {},
   "outputs": [
    {
     "name": "stdout",
     "output_type": "stream",
     "text": [
      "Part 2 Number Of Authors appears correct\n",
      "Part 2 Number Of Images appears correct\n",
      "Part 2 Number of Pages appears correct\n"
     ]
    }
   ],
   "source": [
    "# a helper for the questions below\n",
    "def getTableSize(name):\n",
    "    return cursor.execute('''select count(*) from %s''' % name).fetchone()[0]\n",
    "\n",
    "# How many entries are in your authors table?\n",
    "NumberOfAuthors = cursor.execute('''Select Count(login) From Authors''').fetchone()[0]\n",
    "check(\"Part 2 Number Of Authors\", NumberOfAuthors, points=5)\n",
    "# How many images are in your table?\n",
    "NumberOfImages = cursor.execute('''Select Count(url) From Images''').fetchone()[0]\n",
    "check(\"Part 2 Number Of Images\", NumberOfImages, points=5)\n",
    "# How many pages?\n",
    "NumberOfPages = cursor.execute('''Select Count(pageid) From Pages''').fetchone()[0]\n",
    "check(\"Part 2 Number of Pages\", NumberOfPages, points=5)"
   ]
  },
  {
   "cell_type": "markdown",
   "metadata": {},
   "source": [
    "## 3. List the categories with the number of books in each for a given language.\n",
    "\n",
    "A visitor to Tar Heel Reader might want to see how many books in their native language are available in each category.\n",
    "\n",
    "Fill in the body of the function so that it uses a single query to produce a list of tuples with the category first and the number of books in that category second. Sort by category in ascending order.\n",
    "\n",
    "For my table design I was able to do this with a single SQL statement. \n",
    "\n",
    "Always use the ? parameter substitution form to avoid SQL injection attacks."
   ]
  },
  {
   "cell_type": "code",
   "execution_count": 86,
   "metadata": {},
   "outputs": [
    {
     "name": "stdout",
     "output_type": "stream",
     "text": [
      "Part 3 appears correct\n"
     ]
    },
    {
     "data": {
      "text/plain": [
       "[('Alphabet', 64),\n",
       " ('Animals and Nature', 257),\n",
       " ('Art and Music', 41),\n",
       " ('Biographies', 28),\n",
       " ('Fairy and Folk Tales', 24),\n",
       " ('Fiction', 187),\n",
       " ('Foods', 58),\n",
       " ('Health', 22),\n",
       " ('History', 43),\n",
       " ('Holidays', 55),\n",
       " ('Math and Science', 80),\n",
       " ('Nursery Rhymes', 2),\n",
       " ('People and Places', 243),\n",
       " ('Poetry', 25),\n",
       " ('Recreation and Leisure', 111),\n",
       " ('Sports', 48)]"
      ]
     },
     "execution_count": 86,
     "metadata": {},
     "output_type": "execute_result"
    }
   ],
   "source": [
    "def listCategoryCounts(language):\n",
    "    #Write your code here\n",
    "    cursor = db.execute('''Select C.categories, Count(C.bookid) From Categories C, Books B WHERE language = ? AND B.language = language AND B.bookid = C.bookid group by C.categories order by C.categories''',(language,))\n",
    "    return cursor.fetchall()\n",
    "\n",
    "r = listCategoryCounts('en')\n",
    "\n",
    "check('Part 3', r, points=20)\n",
    "\n",
    "r"
   ]
  },
  {
   "cell_type": "markdown",
   "metadata": {},
   "source": [
    "## 4. List the books in a category.\n",
    "\n",
    "The next step for our visitor is to select a category and browse the available books. We don't want to send __all__ the books, that would take too long, so we will send only 12 books (a chunk) at a time.\n",
    "\n",
    "Fill in the body of the function below so that it returns a list of tuples with the book's unique id, title, author's last name, page count, and the URL of the picture on the first page of the book. The frontend will use this information to construct a grid of book previews with a link to read each book.The books should be ordered with the most recently created books first.\n",
    "\n",
    "You should do this with a single query.\n",
    "\n",
    "Your result should look like this:\n",
    "\n",
    "    [(u'Farm Animals', u'Murphy', 980, 8, u'/cache/images/89/291005289_a05ae73053.jpg'),\n",
    "     ...\n",
    "    ]\n"
   ]
  },
  {
   "cell_type": "code",
   "execution_count": 87,
   "metadata": {},
   "outputs": [
    {
     "name": "stdout",
     "output_type": "stream",
     "text": [
      "Part 4 page 1 appears correct\n",
      "Part 4 page 2 appears correct\n"
     ]
    },
    {
     "data": {
      "text/plain": [
       "[(998,\n",
       "  'Seaside Aquarium',\n",
       "  'Simpson',\n",
       "  8,\n",
       "  '/cache/images/21/122430121_a653d2f8ab.jpg'),\n",
       " (997,\n",
       "  'The Funny Crab',\n",
       "  'Bennett',\n",
       "  5,\n",
       "  '/cache/images/49/5638860949_d89877e19d.jpg'),\n",
       " (993,\n",
       "  'Polar Bears',\n",
       "  'Rogers',\n",
       "  10,\n",
       "  '/cache/images/70/3582475670_df8e8e8974.jpg'),\n",
       " (992, 'Horse', 'Rice', 6, '/cache/images/79/57632579_c7482974fe.jpg'),\n",
       " (989, 'The Mouse', 'Kelly', 13, '/cache/images/39/8093539_473996654f.jpg'),\n",
       " (935, 'Cats', 'Patterson', 8, '/cache/images/70/5110834170_0797f39278.jpg'),\n",
       " (986,\n",
       "  'The Tired Lion',\n",
       "  'Bennett',\n",
       "  4,\n",
       "  '/cache/images/57/5657669257_d4be2a3f98.jpg'),\n",
       " (976,\n",
       "  'My book on how to help the Earth.',\n",
       "  'Harper',\n",
       "  8,\n",
       "  '/cache/images/48/2435883148_0eba86944f.jpg'),\n",
       " (975,\n",
       "  'Help the Earth',\n",
       "  'Harper',\n",
       "  7,\n",
       "  '/cache/images/77/3717759677_4a520a1dbb.jpg'),\n",
       " (974,\n",
       "  'My book about how to save the Earth',\n",
       "  'Harper',\n",
       "  8,\n",
       "  '/cache/images/77/3717759677_4a520a1dbb.jpg'),\n",
       " (985,\n",
       "  'Farm Animals',\n",
       "  'Reynolds',\n",
       "  8,\n",
       "  '/cache/images/89/291005289_a05ae73053.jpg'),\n",
       " (981,\n",
       "  \"Sharp's Survival Chance\",\n",
       "  'Bennett',\n",
       "  5,\n",
       "  '/cache/images/09/14539630909_c269d1423e.jpg')]"
      ]
     },
     "execution_count": 87,
     "metadata": {},
     "output_type": "execute_result"
    }
   ],
   "source": [
    "def listBooks(language, category, chunk):\n",
    "    # language is the 2-letter language code\n",
    "    # category is a category name\n",
    "    # chunk is an integer. 0 means the first 12 books, 1 means the next 12, etc.\n",
    "    # write your code here\n",
    "    cursor = db.execute('''SELECT B.bookid, B.title, A.lastname, Count(DISTINCT P.pageid), I.url\n",
    "                           FROM Pages P, Books B, Authors A, Images I, ImageInPage IP, Categories C \n",
    "                           WHERE C.bookid = B.bookid AND A.login = B.login AND B.bookid = P.bookid \n",
    "                           AND IP.bookid = P.bookid AND IP.imageid = I.imageid AND IP.pageid = 0\n",
    "                           AND C.categories = ? AND B.language = ? \n",
    "                           Group By B.bookid \n",
    "                           Order By B.created DESC\n",
    "                           limit ?, 12''',(category, language, chunk * 12))\n",
    "    result = cursor.fetchall()\n",
    "    return result\n",
    "r1 = listBooks('en', 'Animals and Nature', 0)\n",
    "# I'm stripping off the ID before testing\n",
    "check('Part 4 page 1', [ r[1:] for r in r1 ], points=10)\n",
    "\n",
    "r2 = listBooks('en', 'Animals and Nature', 1)\n",
    "toRead = r2[-1][0] # get the id of the last book on the second page, we'll read it below\n",
    "# I'm stripping off the ID before testing\n",
    "check('Part 4 page 2', [ r[1:] for r in r2], points=10)\n",
    "\n",
    "r1"
   ]
  },
  {
   "cell_type": "markdown",
   "metadata": {},
   "source": [
    "## 5. Fetch a single book\n",
    "\n",
    "Now that our vistor has clicked on a book, we want to fetch all of its content so the Javascript in the browser can render it without further reference to the server. We want to produce a result formatted like the ones we read in earlier so create a Python dictionary and assign values to keys with the same names. Exclude the `id` from the result to make testing easier. Finally return a JSON encoded string, I've included that code for you inside the function. \n",
    "\n",
    "I can't see any way to do this step with only one query. I got it down to three. That isn't so bad because after this step our visitor will be happily reading a book without bothering us again for a while.\n",
    "\n",
    "Fill in the body of the function below so that it produces a JSON encoded string that looks like one of the entries in your original books array. Do __not__ simply return an item from that array, you __must__ reconstruct the book from the data in your database."
   ]
  },
  {
   "cell_type": "code",
   "execution_count": 88,
   "metadata": {},
   "outputs": [
    {
     "name": "stdout",
     "output_type": "stream",
     "text": [
      "{'categories': ['Animals and Nature'], 'created': '2015-03-13 11:49:30', 'email': 'eleeim@bloomberg.com', 'first_name': 'Ernest', 'language': 'en', 'last_name': 'Lee', 'login': 'eleeim', 'pages': [{'caption': 'Sea turtles belong to the same family as land turtles.', 'height': 333, 'url': '/cache/images/14/2341383314_5347b601a7.jpg', 'width': 500}, {'caption': \"Sea turtles' front legs look like flippers. They steer with their back legs.\", 'height': 375, 'url': '/cache/images/03/10449014403_c8d853c373.jpg', 'width': 500}, {'caption': 'Sea Turtles are cold blooded.', 'height': 375, 'url': '/cache/images/88/3706977488_08208d18db.jpg', 'width': 500}, {'caption': 'Sea Turtles eat plants and can go for a year without eating.', 'height': 375, 'url': '/cache/images/05/4018269705_b8f4c692ee.jpg', 'width': 500}, {'caption': 'Sea Turtles need to breathe air to live.', 'height': 375, 'url': '/cache/images/16/5787913916_6b7af6eba2.jpg', 'width': 500}, {'caption': 'Sea Turtles can hold their breath for 5 hours!', 'height': 500, 'url': '/cache/images/30/7678962530_9795eb4f3a.jpg', 'width': 375}, {'caption': 'Turtles are relatives of dinosaurs. The oldest turtles are called Archelon.', 'height': 333, 'url': '/cache/images/28/6215133128_0a044c7442.jpg', 'width': 500}, {'caption': 'The Leatherback is the largest sea turtle. It is about 8 feet long and weighs about 2000 pounds.', 'height': 375, 'url': '/cache/images/63/10449020063_6c6fbd44f0.jpg', 'width': 500}, {'caption': 'Turtles talk to each other by grunting and moving.', 'height': 375, 'url': '/cache/images/11/2564599711_0d98d79cc9.jpg', 'width': 500}, {'caption': 'Turtles lay their eggs in the sand.', 'height': 333, 'url': '/cache/images/25/15427399125_95c2ab6196.jpg', 'width': 500}], 'title': 'Sea Turtles'}\n",
      "Part 5 appears correct\n"
     ]
    }
   ],
   "source": [
    "def fetchBook(id):\n",
    "    \n",
    "    #Write your code here\n",
    "    bookTemp = db.execute('''SELECT * FROM Books B WHERE B.bookid = ?''',(id,))\n",
    "    categoriesTemp = db.execute('''SELECT C.categories FROM Categories C WHERE C.bookid = ?''',(id,))\n",
    "    authorsTemp = db.execute('''SELECT A.login, A.email, A.firstname, A.lastname FROM Authors A, Books B\n",
    "                           WHERE B.bookid = ? AND A.login = B.login''',(id,))\n",
    "    pageTemp = db.execute('''SELECT Distinct I.url, P.caption, I.height, I.width \n",
    "                            FROM Pages P, Images I, ImageInPage IP \n",
    "                            WHERE P.bookid = IP.bookid AND P.pageid = IP.pageid AND I.imageid = IP.imageid AND P.bookid = ? \n",
    "                            ''',(id,))\n",
    "    \n",
    "    page = pageTemp.fetchall()\n",
    "    book = bookTemp.fetchone()\n",
    "    author = authorsTemp.fetchone()\n",
    "    categories = categoriesTemp.fetchone()\n",
    "    #INSERT INTO Books(bookid, title, login, language, created)\n",
    "    pages = [{\"caption\": r[1], \"height\": r[2], \"url\": r[0], \"width\": r[3]} for r in page]\n",
    "    book = {\"categories\": [categories[0]], \"created\": book[4], \"email\": author[1], \"first_name\": author[2], \n",
    "               \"language\": book[3],\"last_name\": author[3],\"login\": author[0],\"pages\": pages, \"title\": book[1]}\n",
    "    \n",
    "    print(book)\n",
    "    return json.dumps(book, sort_keys=True)\n",
    "b = fetchBook(toRead)\n",
    "check('Part 5', b, points=30)\n"
   ]
  },
  {
   "cell_type": "raw",
   "metadata": {},
   "source": [
    "## 6. List the books by an author.\n",
    "\n",
    "The authors at our site like to see a list of the books they have written. Fill in the code below to return a list of the books in the same format as listBooks above in part 3."
   ]
  },
  {
   "cell_type": "code",
   "execution_count": 89,
   "metadata": {},
   "outputs": [
    {
     "name": "stdout",
     "output_type": "stream",
     "text": [
      "Part 6 appears correct\n"
     ]
    },
    {
     "data": {
      "text/plain": [
       "[(0,\n",
       "  'PLURALS: cuniculus ursum amat.',\n",
       "  'Hansen',\n",
       "  8,\n",
       "  '/cache/images/06/357393306_bb325a5c92.jpg'),\n",
       " (2,\n",
       "  'Plurals: cuniculus et amicus',\n",
       "  'Hansen',\n",
       "  8,\n",
       "  '/cache/images/67/219674667_b3aeb1528e.jpg'),\n",
       " (1,\n",
       "  'Plurals: Canes, nomine Montius et Daisia',\n",
       "  'Hansen',\n",
       "  9,\n",
       "  '/uploads/2009/07/annapmagistra-1246609542.jpg'),\n",
       " (14,\n",
       "  'Cuniculus versipellem salutat',\n",
       "  'Hansen',\n",
       "  14,\n",
       "  '/cache/images/39/3178513639_d71ae707ab.jpg')]"
      ]
     },
     "execution_count": 89,
     "metadata": {},
     "output_type": "execute_result"
    }
   ],
   "source": [
    "def listAuthor(login):\n",
    "    # login is the unique login for an author\n",
    "    cursor = db.execute('''SELECT B.bookid, B.title, A.lastname, Count(DISTINCT P.pageid), I.url\n",
    "                           FROM Pages P, Books B, Authors A, Images I, ImageInPage IP, Categories C \n",
    "                           WHERE C.bookid = B.bookid AND A.login = B.login AND B.bookid = P.bookid \n",
    "                           AND IP.bookid = P.bookid AND IP.imageid = I.imageid AND IP.pageid = 0\n",
    "                           AND A.login = ? \n",
    "                           Group By B.bookid \n",
    "                           Order By B.created DESC''',(login,))\n",
    "    result = cursor.fetchall()\n",
    "    return result\n",
    "\n",
    "r1 = listAuthor('jhansenrr')\n",
    "# I'm stripping off the ID before testing\n",
    "check('Part 6', [ r[1:] for r in r1 ], points=15)\n",
    "\n",
    "r1"
   ]
  },
  {
   "cell_type": "markdown",
   "metadata": {},
   "source": [
    "## Done!\n",
    "\n",
    "Get your report, save, and upload your notebook on Sakai."
   ]
  },
  {
   "cell_type": "code",
   "execution_count": 92,
   "metadata": {},
   "outputs": [
    {
     "name": "stdout",
     "output_type": "stream",
     "text": [
      "  Collaborators: []\n",
      "Report for fiji\n",
      "  8 of 8 appear correct, 100 of 100 points\n"
     ]
    },
    {
     "data": {
      "text/html": [
       "\n",
       "<p>Click the button below to submit your notebook. Watch for a confirmation message\n",
       "that your notebook was successfully uploaded. You may submit as often as you wish,\n",
       "only the last submission will count.</p>\n",
       "<button id=\"submitButton116\">Submit this notebook</button>\n",
       "<p id=\"submitResponse116\"></p>\n",
       "<script>\n",
       "var site = 'https://wwwx.cs.unc.edu/Courses/comp521-f18/';\n",
       "$('#submitButton116').on('click', function() {\n",
       "    var site = 'https://wwwx.cs.unc.edu/Courses/comp521-f18/',\n",
       "        $sresp = $('#submitResponse116'),\n",
       "        button = $('#submitButton116');\n",
       "    button.prop('disabled', true);\n",
       "    // wait until save is complete before pushing the notebook\n",
       "    $([IPython.events]).one('notebook_saved.Notebook', function() {\n",
       "        // get the token by logging in\n",
       "        $sresp.html('logging in');\n",
       "        $.ajax({\n",
       "            url: site + 'io/token/token.cgi',\n",
       "            dataType: 'jsonp'\n",
       "        }).done(function(data) {\n",
       "            var notebook = IPython.notebook.notebook_name,\n",
       "                uuid = data.token,\n",
       "                command = \"comp521.pushNotebook('\" + notebook + \"', '\" + uuid + \"')\",\n",
       "                kernel = IPython.notebook.kernel,\n",
       "                handler = function (out) {\n",
       "                    $('#comp116-stop-message').show();\n",
       "                    if (out.content.status == \"ok\") {\n",
       "                        $sresp.html(\"Successfully submitted \" + notebook);\n",
       "                        $('#comp116-stop-message').hide();\n",
       "                    } else if(out.content.status == \"error\") {\n",
       "                        $sresp.html(out.content.ename + \": \" + out.content.evalue);\n",
       "                    } else { // if output is something we haven't thought of\n",
       "                        $sresp.html(\"[out type not implemented]\")\n",
       "                    }\n",
       "                    button.prop('disabled', false);\n",
       "                };\n",
       "            $sresp.html('Submitting');\n",
       "            kernel.execute(command, {shell: { reply: handler }});\n",
       "        }).fail(function() {\n",
       "            $sresp.html('Login failed');\n",
       "            button.prop('disabled', false);\n",
       "        });\n",
       "    });\n",
       "    // trigger the save\n",
       "    $sresp.html('Saving');\n",
       "    IPython.notebook.save_notebook();\n",
       "});"
      ],
      "text/plain": [
       "<IPython.core.display.HTML object>"
      ]
     },
     "execution_count": 92,
     "metadata": {},
     "output_type": "execute_result"
    }
   ],
   "source": [
    "onyen = 'fiji'\n",
    "collaborators = []\n",
    "report(onyen, collaborators)"
   ]
  },
  {
   "cell_type": "code",
   "execution_count": null,
   "metadata": {
    "collapsed": true
   },
   "outputs": [],
   "source": []
  }
 ],
 "metadata": {
  "kernelspec": {
   "display_name": "Python 3",
   "language": "python",
   "name": "python3"
  },
  "language_info": {
   "codemirror_mode": {
    "name": "ipython",
    "version": 3
   },
   "file_extension": ".py",
   "mimetype": "text/x-python",
   "name": "python",
   "nbconvert_exporter": "python",
   "pygments_lexer": "ipython3",
   "version": "3.6.5"
  }
 },
 "nbformat": 4,
 "nbformat_minor": 2
}
